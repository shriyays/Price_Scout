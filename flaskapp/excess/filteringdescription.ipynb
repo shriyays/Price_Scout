{
 "cells": [
  {
   "cell_type": "code",
   "execution_count": 50,
   "metadata": {},
   "outputs": [
    {
     "name": "stderr",
     "output_type": "stream",
     "text": [
      "[nltk_data] Downloading package stopwords to\n",
      "[nltk_data]     C:\\Users\\siddh\\AppData\\Roaming\\nltk_data...\n",
      "[nltk_data]   Package stopwords is already up-to-date!\n"
     ]
    }
   ],
   "source": [
    "import nltk\n",
    "import re\n",
    "import pandas as pd\n",
    "from nltk.corpus import stopwords\n",
    "from nltk.stem import PorterStemmer\n",
    "from nltk.tokenize import word_tokenize\n",
    "nltk.download('stopwords')\n",
    "\n",
    "df = pd.read_csv('mobiles.csv')"
   ]
  },
  {
   "cell_type": "code",
   "execution_count": 51,
   "metadata": {},
   "outputs": [
    {
     "name": "stdout",
     "output_type": "stream",
     "text": [
      "0                                       Good condition\n",
      "1                                       good condition\n",
      "2    Small scratches to the sides, greenline in dis...\n",
      "Name: description, dtype: object\n"
     ]
    }
   ],
   "source": [
    "print(df['description'])"
   ]
  },
  {
   "cell_type": "code",
   "execution_count": 52,
   "metadata": {},
   "outputs": [],
   "source": [
    "#Lowercase all the words in the dataset\n",
    "df['description'] = df['description'].str.lower()\n",
    "\n",
    "#Remove stop words\n",
    "# create a set of stop words\n",
    "stop_words = set(stopwords.words('english'))\n",
    "\n",
    "# remove stop words from the 'descr' column\n",
    "df['description'] = df['description'].apply(lambda x: ' '.join([word for word in x.split() if word not in stop_words]))"
   ]
  },
  {
   "cell_type": "code",
   "execution_count": 53,
   "metadata": {},
   "outputs": [
    {
     "name": "stdout",
     "output_type": "stream",
     "text": [
      "0                              good condition\n",
      "1                              good condition\n",
      "2    small scratches sides, greenline display\n",
      "Name: description, dtype: object\n"
     ]
    }
   ],
   "source": [
    "print(df['description'])"
   ]
  },
  {
   "cell_type": "code",
   "execution_count": 54,
   "metadata": {},
   "outputs": [],
   "source": [
    "import string\n",
    "def remove_punctuation(text):\n",
    "    translator = str.maketrans('', '', string.punctuation)\n",
    "    return text.translate(translator)\n",
    "# Apply the remove_punctuation function to the \"description\" column\n",
    "df['description'] = df['description'].apply(remove_punctuation)\n"
   ]
  },
  {
   "cell_type": "code",
   "execution_count": 55,
   "metadata": {},
   "outputs": [
    {
     "name": "stdout",
     "output_type": "stream",
     "text": [
      "0                             good condition\n",
      "1                             good condition\n",
      "2    small scratches sides greenline display\n",
      "Name: description, dtype: object\n"
     ]
    }
   ],
   "source": [
    "print(df['description'])"
   ]
  },
  {
   "cell_type": "code",
   "execution_count": 56,
   "metadata": {},
   "outputs": [
    {
     "name": "stderr",
     "output_type": "stream",
     "text": [
      "[nltk_data] Downloading package punkt to\n",
      "[nltk_data]     C:\\Users\\siddh\\AppData\\Roaming\\nltk_data...\n",
      "[nltk_data]   Package punkt is already up-to-date!\n",
      "[nltk_data] Downloading package wordnet to\n",
      "[nltk_data]     C:\\Users\\siddh\\AppData\\Roaming\\nltk_data...\n",
      "[nltk_data]   Package wordnet is already up-to-date!\n"
     ]
    }
   ],
   "source": [
    "from nltk.stem import WordNetLemmatizer\n",
    "\n",
    "# Download NLTK resources if not already downloaded\n",
    "nltk.download('punkt')\n",
    "nltk.download('wordnet')\n",
    "# Create a lemmatizer\n",
    "lemmatizer = WordNetLemmatizer()\n",
    "# Lemmatize the \"description\" column\n",
    "df['description'] = df['description'].apply(lambda x: ' '.join([lemmatizer.lemmatize(word) for word in nltk.word_tokenize(x)]))"
   ]
  },
  {
   "cell_type": "code",
   "execution_count": 57,
   "metadata": {},
   "outputs": [
    {
     "name": "stdout",
     "output_type": "stream",
     "text": [
      "0                          good condition\n",
      "1                          good condition\n",
      "2    small scratch side greenline display\n",
      "Name: description, dtype: object\n"
     ]
    }
   ],
   "source": [
    "print(df['description'])"
   ]
  },
  {
   "cell_type": "code",
   "execution_count": 58,
   "metadata": {},
   "outputs": [],
   "source": [
    "\n",
    "# Define a function to remove special characters\n",
    "def remove_special_chars(text):\n",
    "    # Define the pattern to match special characters\n",
    "    pattern = r'[^a-zA-Z0-9\\s]'\n",
    "    # Replace special characters with a space\n",
    "    text = re.sub(pattern, ' ', text)\n",
    "    return text\n",
    "\n",
    "# Apply the function to the 'clean_text' column of the dataframe\n",
    "df['description'] = df['description'].apply(remove_special_chars)\n"
   ]
  },
  {
   "cell_type": "code",
   "execution_count": 59,
   "metadata": {},
   "outputs": [
    {
     "name": "stdout",
     "output_type": "stream",
     "text": [
      "0                          good condition\n",
      "1                          good condition\n",
      "2    small scratch side greenline display\n",
      "Name: description, dtype: object\n"
     ]
    }
   ],
   "source": [
    "\n",
    "print(df['description'])"
   ]
  }
 ],
 "metadata": {
  "kernelspec": {
   "display_name": "Python 3",
   "language": "python",
   "name": "python3"
  },
  "language_info": {
   "codemirror_mode": {
    "name": "ipython",
    "version": 3
   },
   "file_extension": ".py",
   "mimetype": "text/x-python",
   "name": "python",
   "nbconvert_exporter": "python",
   "pygments_lexer": "ipython3",
   "version": "3.9.10"
  }
 },
 "nbformat": 4,
 "nbformat_minor": 2
}
