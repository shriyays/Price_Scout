{
 "cells": [
  {
   "cell_type": "code",
   "execution_count": 41,
   "metadata": {},
   "outputs": [],
   "source": [
    "import pandas as pd\n",
    "\n",
    "df2 = 'laptops'\n",
    "temp_email = 'siddhantjverma@gmail.com'"
   ]
  },
  {
   "cell_type": "code",
   "execution_count": 42,
   "metadata": {},
   "outputs": [
    {
     "data": {
      "text/plain": [
       "'Apple Macbook'"
      ]
     },
     "execution_count": 42,
     "metadata": {},
     "output_type": "execute_result"
    }
   ],
   "source": [
    "'''def input_query():\n",
    "  if df2 == 'vehicles':\n",
    "    df = pd.read_csv('vehicles.csv')\n",
    "    print(df)\n",
    "    for row in df:\n",
    "        input_query = row['brand']+ ' ' + row['model']\n",
    "  elif df2 == 'mobiles':\n",
    "    df = pd.read_csv('mobiles.csv')\n",
    "    print(df)\n",
    "    for row in df:\n",
    "        input_query = row['brand']+ ' ' + row['model_name']\n",
    "  elif df2 == 'laptops':\n",
    "    df = pd.read_csv('laptops.csv')\n",
    "    print(df)\n",
    "    for row in df:\n",
    "        input_query = row['brandlap']+ ' ' + row['model']\n",
    "  return input_query\n",
    "\n",
    "input_query()'''\n",
    "def input_query():\n",
    "    if df2 == \"vehicles\":\n",
    "        df = pd.read_csv(\"vehicles.csv\")\n",
    "        input_query = df.query(\"brand != '' and model != ''\").apply(lambda row: f\"{row['brand']} {row['model']}\", axis=1)\n",
    "    elif df2 == \"mobiles\":\n",
    "        df = pd.read_csv(\"mobiles.csv\")\n",
    "        input_query = df.query(\"brand != '' and model_name != ''\").apply(lambda row: f\"{row['brand']} {row['model_name']}\", axis=1)\n",
    "    elif df2 == \"laptops\":\n",
    "        df = pd.read_csv(\"laptops.csv\")\n",
    "        input_query = df.query(\"brandlap != '' and model != ''\").apply(lambda row: f\"{row['brandlap']} {row['model']}\", axis=1)\n",
    "    else:\n",
    "        raise ValueError(f\"Invalid value for df2: {df2}\")\n",
    "    x = len(input_query)\n",
    "    return input_query[x-1]\n",
    "\n",
    "\n",
    "# Example usage:\n",
    "input_query()\n"
   ]
  },
  {
   "cell_type": "code",
   "execution_count": null,
   "metadata": {},
   "outputs": [],
   "source": []
  }
 ],
 "metadata": {
  "kernelspec": {
   "display_name": "Python 3",
   "language": "python",
   "name": "python3"
  },
  "language_info": {
   "codemirror_mode": {
    "name": "ipython",
    "version": 3
   },
   "file_extension": ".py",
   "mimetype": "text/x-python",
   "name": "python",
   "nbconvert_exporter": "python",
   "pygments_lexer": "ipython3",
   "version": "3.9.10"
  }
 },
 "nbformat": 4,
 "nbformat_minor": 2
}
