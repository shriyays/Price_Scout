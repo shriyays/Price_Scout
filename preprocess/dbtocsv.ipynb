{
 "cells": [
  {
   "cell_type": "code",
   "execution_count": 4,
   "metadata": {},
   "outputs": [],
   "source": [
    "import mysql.connector\n",
    "\n",
    "# Create a connection object\n",
    "conn = mysql.connector.connect(\n",
    "    host='localhost',\n",
    "    user='root',\n",
    "    password='',\n",
    "    database='capstone'\n",
    ")\n",
    "\n",
    "# Create a cursor object\n",
    "cursor = conn.cursor()"
   ]
  },
  {
   "cell_type": "code",
   "execution_count": 5,
   "metadata": {},
   "outputs": [
    {
     "name": "stdout",
     "output_type": "stream",
     "text": [
      "[('siddhantjverma@gmail.com', 'Tata', 'Nano', 'four-wheeler', 2012, 'Silver', 30000, 'petrol', 'manual', 'Single', 650, 35.0, 5, 'good car')]\n"
     ]
    }
   ],
   "source": [
    "email = 'siddhantjverma@gmail.com'\n",
    "cursor.execute('SELECT * FROM vehicle where user_email = %s;',(email,))\n",
    "data = cursor.fetchall()\n",
    "print(data)"
   ]
  },
  {
   "cell_type": "code",
   "execution_count": 6,
   "metadata": {},
   "outputs": [],
   "source": [
    "import csv\n",
    "import os\n",
    "temp = data\n",
    "if not os.path.exists('vehicles.csv'):\n",
    "    with open('vehicles.csv', 'w', newline='') as f:\n",
    "      writer = csv.writer(f)\n",
    "      writer.writerow(['user_email' , 'brand', 'model','vehicle_type', 'model_year', 'color', 'km_driven', 'fuel_type', 'transmission', 'owner_type', 'engine_capacity', 'power', 'seats', 'description'])\n",
    "# Create a CSV writer object\n",
    "with open('vehicles.csv', 'a', newline='') as g:\n",
    "  writer = csv.writer(g)\n",
    "# Write each row of data to the CSV file\n",
    "  for row in temp:\n",
    "    writer.writerow(row)\n"
   ]
  }
 ],
 "metadata": {
  "kernelspec": {
   "display_name": "Python 3",
   "language": "python",
   "name": "python3"
  },
  "language_info": {
   "codemirror_mode": {
    "name": "ipython",
    "version": 3
   },
   "file_extension": ".py",
   "mimetype": "text/x-python",
   "name": "python",
   "nbconvert_exporter": "python",
   "pygments_lexer": "ipython3",
   "version": "3.9.10"
  }
 },
 "nbformat": 4,
 "nbformat_minor": 2
}
