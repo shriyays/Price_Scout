{
 "cells": [
  {
   "cell_type": "code",
   "execution_count": 1,
   "metadata": {},
   "outputs": [
    {
     "name": "stdout",
     "output_type": "stream",
     "text": [
      "                 user_email brand model  vehicle_type  model_year   color  \\\n",
      "0  siddhantjverma@gmail.com  Tata  Nano  four-wheeler        2012  Silver   \n",
      "\n",
      "   km_driven fuel_type transmission owner_type  engine_capacity  power  seats  \\\n",
      "0      30000    petrol       manual     Single              650   35.0      5   \n",
      "\n",
      "  description  \n",
      "0    good car  \n"
     ]
    }
   ],
   "source": [
    "import pandas as pd\n",
    "\n",
    "# Read the CSV file into a Pandas DataFrame\n",
    "df = pd.read_csv('vehicle.csv')\n",
    "\n",
    "# Print the DataFrame\n",
    "print(df)\n"
   ]
  }
 ],
 "metadata": {
  "kernelspec": {
   "display_name": "Python 3",
   "language": "python",
   "name": "python3"
  },
  "language_info": {
   "codemirror_mode": {
    "name": "ipython",
    "version": 3
   },
   "file_extension": ".py",
   "mimetype": "text/x-python",
   "name": "python",
   "nbconvert_exporter": "python",
   "pygments_lexer": "ipython3",
   "version": "3.9.10"
  }
 },
 "nbformat": 4,
 "nbformat_minor": 2
}
